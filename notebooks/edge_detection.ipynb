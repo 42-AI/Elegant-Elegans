{
 "cells": [
  {
   "cell_type": "markdown",
   "metadata": {},
   "source": [
    "# Notebook Edge detection (lectures 4 & 5)\n",
    "\n",
    "*Notes explicatives et pratiques des notions abordées.*   "
   ]
  },
  {
   "cell_type": "markdown",
   "metadata": {},
   "source": [
    "## Linear Systems\n",
    "*interprétation personnelle*\\\n",
    "Dans le cadre de l'utilisation de filtres, on peut qualifié de système une fonction permettant de passer d'une représentation fonctionnelle de l'image à une autre. En effet, si l'on se réfère au chapitre précédant, nous pouvons imaginer une image comme une fonction discrète 2D (définie pour des valeurs entières représentant les indices de ligne et de colonne au sein de l'image).\n",
    "Nous pouvons flouter l'image, dans ce cas là l'image correspond à une autre fonction discrète.\n",
    "\n",
    "La transformation (et même plus précisément le filtre) permettant de passer de la première représentation de l'image (la première fonction) à la seconde représentation (la seconde fonction) est qualifié de système. \n",
    "\n",
    "Si le système avec lequel nous travaillons est qualifié de linéaire, alors si nous appliquons 2 transformations appartenant au système, sur notre image, alors nous devons avoir:\n",
    "$$\n",
    "S[\\alpha f_i[n, m] + \\beta f_j[n, m]] = \\alpha S[f_i[n, m]] + \\beta S[f_j[n, m]]\n",
    "$$\n",
    "\n",
    "Cela signifie que la résultante des 2 transformations est identiques à somme (pondérées) de chacune des résultantes prises séparément."
   ]
  },
  {
   "cell_type": "code",
   "execution_count": 12,
   "metadata": {},
   "outputs": [],
   "source": [
    "import numpy as np\n",
    "import cv2\n",
    "\n",
    "origin_arr = np.identity(10) + np.rot90(np.identity(10))"
   ]
  },
  {
   "cell_type": "code",
   "execution_count": 21,
   "metadata": {},
   "outputs": [],
   "source": [
    "output1 = origin_arr / np.sum(origin_arr)\n",
    "output2 =  2 * origin_arr - 2"
   ]
  },
  {
   "cell_type": "code",
   "execution_count": 22,
   "metadata": {},
   "outputs": [
    {
     "data": {
      "text/plain": [
       "array([[ 0.025, -1.   , -1.   , -1.   , -1.   , -1.   , -1.   , -1.   ,\n",
       "        -1.   ,  0.025],\n",
       "       [-1.   ,  0.025, -1.   , -1.   , -1.   , -1.   , -1.   , -1.   ,\n",
       "         0.025, -1.   ],\n",
       "       [-1.   , -1.   ,  0.025, -1.   , -1.   , -1.   , -1.   ,  0.025,\n",
       "        -1.   , -1.   ],\n",
       "       [-1.   , -1.   , -1.   ,  0.025, -1.   , -1.   ,  0.025, -1.   ,\n",
       "        -1.   , -1.   ],\n",
       "       [-1.   , -1.   , -1.   , -1.   ,  0.025,  0.025, -1.   , -1.   ,\n",
       "        -1.   , -1.   ],\n",
       "       [-1.   , -1.   , -1.   , -1.   ,  0.025,  0.025, -1.   , -1.   ,\n",
       "        -1.   , -1.   ],\n",
       "       [-1.   , -1.   , -1.   ,  0.025, -1.   , -1.   ,  0.025, -1.   ,\n",
       "        -1.   , -1.   ],\n",
       "       [-1.   , -1.   ,  0.025, -1.   , -1.   , -1.   , -1.   ,  0.025,\n",
       "        -1.   , -1.   ],\n",
       "       [-1.   ,  0.025, -1.   , -1.   , -1.   , -1.   , -1.   , -1.   ,\n",
       "         0.025, -1.   ],\n",
       "       [ 0.025, -1.   , -1.   , -1.   , -1.   , -1.   , -1.   , -1.   ,\n",
       "        -1.   ,  0.025]])"
      ]
     },
     "execution_count": 22,
     "metadata": {},
     "output_type": "execute_result"
    }
   ],
   "source": [
    "0.5 * output1 + 0.5 * output2"
   ]
  },
  {
   "cell_type": "markdown",
   "metadata": {},
   "source": [
    "## 3. Edge Detection for Computer Vision\n",
    "Le but de la détection des bords est d'identifier les variations soudaines (les discontinuités) au sein d'une image.\n",
    "De manière intuitive, la majorité de l'information sémantique peut être associée aux bords.\n",
    "\n",
    "Les bords nous aident à extraire des informations dans ce que nous voyons, à reconnaître des objets, des formes géométriques et appréhender le point de vue avec lequel nous observons une scène.\n",
    "Les bords se \"forment\"/définissent par la discontinuité d'une surface, la variation brutale de la profondeur, des couleurs ou de la luminosité.\n",
    "\n",
    "### 3.1 Les dérivées discrètres en 1D:\n",
    "> **Définition 1:**\\\n",
    "> La dérivée *\"vers l'arrière\"*\n",
    "> $$\n",
    "> \\frac{df}{dx} = f(x) - f(x-1) = f'(x)\n",
    "> $$\n",
    ">\n",
    "\n",
    "> **Définition 2:**\\\n",
    "> La dérivée *\"vers l'avant\"*\n",
    "> $$\n",
    "> \\frac{df}{dx} = f(x) - f(x+1) = f'(x)\n",
    "> $$\n",
    ">\n",
    "\n",
    "\n",
    "> **Définition 3:**\\\n",
    "> La dérivée *\"centrée\"*\n",
    "> $$\n",
    "> \\frac{df}{dx} = f(x+1) - f(x-1) = f'(x)\n",
    "> $$\n",
    ">\n"
   ]
  },
  {
   "cell_type": "code",
   "execution_count": 32,
   "metadata": {},
   "outputs": [],
   "source": [
    "def apply_derivative(arr:np.array, derivative: str):\n",
    "    \"\"\" Depending of the derivative function, the first, last or first and last elements of the array must be skipped\n",
    "\n",
    "    Args:\n",
    "        arr (np.array): 1D array to differenciate\n",
    "        derivative (str): name of the definition of the derivative applied (\"backward\", \"forward\" or \"centred\")\n",
    "    \"\"\"\n",
    "    output = []\n",
    "    if derivative == \"backward\":\n",
    "        output.append(None) # None pour signifier que l'on skip en theorie la premiere dérivée\n",
    "        for i in range(1, len(arr)):\n",
    "            diff = arr[...] - arr[...] # f(x) - f(x-1)\n",
    "            output.append(diff)\n",
    "    elif derivative == \"forward\":\n",
    "        for i in range(len(arr) - 1):\n",
    "            diff = arr[...] - arr[...]  # f(x) - f(x+1)\n",
    "            output.append(diff)\n",
    "        output.append(None) # None pour signifier que l'on skip en theorie la premiere dérivée\n",
    "    elif derivative == \"centred\":\n",
    "        output.append(None) # None pour signifier que l'on skip en theorie la premiere dérivée\n",
    "        for i in range(1, len(arr) - 1):\n",
    "            diff = arr[...] - arr[...]  # f(x+1) - f(x-1)\n",
    "            output.append(diff)\n",
    "        output.append(None)  # None pour signifier que l'on skip en theorie la derniere dérivée\n",
    "    return np.array(output)"
   ]
  },
  {
   "cell_type": "code",
   "execution_count": 30,
   "metadata": {},
   "outputs": [],
   "source": [
    "arr = np.random.randint(0, 10, size=15)\n",
    "\n",
    "diff_backward = apply_derivative(arr, \"backward\")\n",
    "diff_forward = apply_derivative(arr, \"forward\")\n",
    "diff_centred = apply_derivative(arr, \"centred\")"
   ]
  },
  {
   "cell_type": "code",
   "execution_count": 31,
   "metadata": {},
   "outputs": [
    {
     "name": "stdout",
     "output_type": "stream",
     "text": [
      "input array  : [[3 3 0 9 7 2 7 0 2 1 1 8 3 0 4]]\n",
      "backward diff: [[None 0 -3 9 -2 -5 5 -7 2 -1 0 7 -5 -3 4]]\n",
      "forwward diff: [[0 3 -9 2 5 -5 7 -2 1 0 -7 5 3 -4 None]]\n",
      "centred diff : [[None -3 6 7 -7 0 -2 -5 1 -1 7 2 -8 1 None]]\n"
     ]
    }
   ],
   "source": [
    "print(\"input array  :\", arr.reshape(1, -1))\n",
    "print(\"backward diff:\", diff_backward.reshape(1, -1))\n",
    "print(\"forwward diff:\", diff_forward.reshape(1, -1))\n",
    "print(\"centred diff :\", diff_centred.reshape(1, -1))"
   ]
  },
  {
   "cell_type": "markdown",
   "metadata": {},
   "source": [
    "Voici un exemple de ce que j'ai pu obtenir:\n",
    "```python\n",
    "input array  : [[3 3 0 9 7 2 7 0 2 1 1 8 3 0 4]]\n",
    "backward diff: [[None 0 -3 9 -2 -5 5 -7 2 -1 0 7 -5 -3 4]]\n",
    "forwward diff: [[0 3 -9 2 5 -5 7 -2 1 0 -7 5 3 -4 None]]\n",
    "centred diff : [[None -3 6 7 -7 0 -2 -5 1 -1 7 2 -8 1 None]]\n",
    "```"
   ]
  },
  {
   "cell_type": "markdown",
   "metadata": {},
   "source": [
    "### 3.2 Discrete derivative in 2D:\n",
    "> **Définition: Vecteur gradient**\n",
    "> $$\n",
    "> \\nabla f(x, y) = \\begin{bmatrix} \\frac{\\partial f}{\\partial x} \\\\ \\frac{\\partial f}{\\partial y} \\end{bmatrix} \n",
    "> $$\n",
    "\n",
    "> **Définition: Amplitude du vecteur gradient**\n",
    "> $$\n",
    "> \\left\\lVert \\nabla f(x, y) \\right\\rVert = \\sqrt{\\frac{\\partial f}{\\partial x}^2 + \\frac{\\partial f}{\\partial y}^2}\n",
    "> $$\n",
    "\n",
    "> **Définition: Direction du vecteur gradient**\n",
    "> $$\n",
    "> \\theta = arctan\\left(\\frac{\\frac{\\partial f}{\\partial y}}{\\frac{\\partial f}{\\partial x}}\\right)\n",
    "> $$"
   ]
  },
  {
   "cell_type": "markdown",
   "metadata": {},
   "source": [
    "### 3.3 Example (and approximation)\n",
    "Le gradient d'une matrice aux coordonnées $(i,j)$ peut être approximé en utilisant les valeurs des pixels autour du pixel d'intérêt (le pixel central de coordonnée $(i,j)$) via le filtre:\n",
    "$$\n",
    "\\frac{1}{3}\n",
    "\\begin{bmatrix}\n",
    "-1 & 0 & 1 \\\\\n",
    "-1 & 0 & 1 \\\\\n",
    "-1 & 0 & 1\n",
    "\\end{bmatrix}\n",
    "$$"
   ]
  },
  {
   "cell_type": "markdown",
   "metadata": {},
   "source": [
    "## Application"
   ]
  }
 ],
 "metadata": {
  "kernelspec": {
   "display_name": "Python 3.8.13 ('wf_ntp')",
   "language": "python",
   "name": "python3"
  },
  "language_info": {
   "codemirror_mode": {
    "name": "ipython",
    "version": 3
   },
   "file_extension": ".py",
   "mimetype": "text/x-python",
   "name": "python",
   "nbconvert_exporter": "python",
   "pygments_lexer": "ipython3",
   "version": "3.8.13"
  },
  "orig_nbformat": 4,
  "vscode": {
   "interpreter": {
    "hash": "bc29bc7902d0467a1187ffbd7ca795fbf4af8410bd3339bdc0fb13f515088705"
   }
  }
 },
 "nbformat": 4,
 "nbformat_minor": 2
}
