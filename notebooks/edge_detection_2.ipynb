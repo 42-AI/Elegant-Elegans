{
 "cells": [
  {
   "cell_type": "markdown",
   "metadata": {},
   "source": [
    "# Edge detection: filtre de Sobel, filtre de Canny et la transformée de Hough\n",
    "\n",
    "## Filtre de Sobel\n",
    "[*vidéo intéressante de computerphile*](https://www.youtube.com/watch?v=uihBwtPIBxM)\\\n",
    "La détection des bords par la méthode de Sobel s'appuie sur 2 filtres:\n",
    "$$\n",
    "\\mathbf{G_x}\n",
    "=\n",
    "\\begin{bmatrix}\n",
    "-1 & 0 & 1 \\\\\n",
    "-2 & 0 & 2 \\\\\n",
    "-1 & 0 & 1\n",
    "\\end{bmatrix}\n",
    "$$\n",
    "pour la détection des bords suivant la direction$x$, et\n",
    "\n",
    "$$\n",
    "\\mathbf{G_y}\n",
    "=\n",
    "\\begin{bmatrix}\n",
    "-1 & -2 & -1 \\\\\n",
    " 0 &  0 &  0 \\\\\n",
    " 1 &  2 &  1\n",
    "\\end{bmatrix}\n",
    "$$\n",
    "pour la direction $y$."
   ]
  },
  {
   "cell_type": "markdown",
   "metadata": {},
   "source": [
    "Prenons une image d'une grille de sudoku:\\\n",
    "![sudoku](sudoku_grid.png)"
   ]
  },
  {
   "cell_type": "code",
   "execution_count": null,
   "metadata": {},
   "outputs": [],
   "source": [
    "import numpy as np\n",
    "import cv2\n",
    "from scipy.signal import convolve2d\n",
    "import matplotlib.pyplot as plt\n",
    "from PIL import Image"
   ]
  },
  {
   "cell_type": "code",
   "execution_count": null,
   "metadata": {},
   "outputs": [],
   "source": [
    "img = Image.open('sudoku_grid.png')\n",
    "imgGray = np.array(img.convert('L'), dtype='float')"
   ]
  },
  {
   "cell_type": "code",
   "execution_count": null,
   "metadata": {},
   "outputs": [],
   "source": [
    "fig, ax = plt.subplots(1, 1, figsize=(10,10))\n",
    "ax.imshow(imgGray, cmap=\"gray\")\n",
    "plt.show()"
   ]
  },
  {
   "cell_type": "code",
   "execution_count": null,
   "metadata": {},
   "outputs": [],
   "source": [
    "# Définition des kernel Gx et Gy:\n",
    "Gx = np.array([[-1, 0, 1],\n",
    "               [-2, 0, 2],\n",
    "               [-1, 0, 1]])\n",
    "Gy = np.array([[-1, -2, -1],\n",
    "               [ 0,  0,  0],\n",
    "               [ 1,  2,  1]])"
   ]
  },
  {
   "cell_type": "code",
   "execution_count": null,
   "metadata": {},
   "outputs": [],
   "source": [
    "# Observons dans un premier temps l'influence de l'application d'un flou Gaussien avant l'application du filtre de Sobel:\n",
    "blur_img = cv2.GaussianBlur(imgGray, ksize=(5,5), sigmaX=3.0)\n"
   ]
  },
  {
   "cell_type": "code",
   "execution_count": null,
   "metadata": {},
   "outputs": [],
   "source": [
    "# Application du filtre Gx\n",
    "img_Gx = cv2.filter2D(imgGray, ddepth=-1, kernel=Gx)\n",
    "blured_gauss_Gx = cv2.filter2D(blur_img, ddepth=-1, kernel=Gx)\n",
    "\n",
    "# Application du filtre Gy\n",
    "img_Gy = cv2.filter2D(imgGray, ddepth=-1, kernel=Gy)\n",
    "blured_gauss_Gy = cv2.filter2D(blur_img, ddepth=-1, kernel=Gy)"
   ]
  },
  {
   "cell_type": "code",
   "execution_count": null,
   "metadata": {},
   "outputs": [],
   "source": [
    "fig, axes = plt.subplots(2, 3, figsize=(30,20))\n",
    "axes[0][0].imshow(imgGray, cmap=\"gray\")\n",
    "axes[0][1].imshow(img_Gx, cmap=\"gray\")\n",
    "axes[0][2].imshow(blured_gauss_Gx, cmap=\"gray\")\n",
    "\n",
    "axes[1][0].imshow(imgGray, cmap=\"gray\")\n",
    "axes[1][1].imshow(img_Gy, cmap=\"gray\")\n",
    "axes[1][2].imshow(blured_gauss_Gy, cmap=\"gray\")\n",
    "\n",
    "axes[0][0].set_title(\"Gray\")\n",
    "axes[0][1].set_title(\"Gray * Gx\")\n",
    "axes[0][2].set_title(\"Gray * Gaussian * Gx\")\n",
    "axes[1][0].set_title(\"Gray\")\n",
    "axes[1][1].set_title(\"Gray * Gy\")\n",
    "axes[1][2].set_title(\"Gray * Gaussian * Gy\")\n",
    "\n",
    "plt.show()"
   ]
  },
  {
   "cell_type": "code",
   "execution_count": null,
   "metadata": {},
   "outputs": [],
   "source": [
    "# Amplitude du vecteur obtenue par le filtre de Sobel et celui ayant subi un floutage Gaussien et le filtre de Sobel\n",
    "amplitude_sobel = np.sqrt(img_Gx**2 + img_Gy**2)\n",
    "amplitude_gauss_sobel = np.sqrt(blured_gauss_Gx**2 + blured_gauss_Gy**2)"
   ]
  },
  {
   "cell_type": "code",
   "execution_count": null,
   "metadata": {},
   "outputs": [],
   "source": [
    "fig, axes = plt.subplots(1, 3, figsize=(22,6))\n",
    "g0 = axes[0].imshow(amplitude_sobel, cmap=\"coolwarm\", vmin=0, vmax=500)\n",
    "g1 = axes[1].imshow(amplitude_gauss_sobel, cmap=\"coolwarm\", vmin=0, vmax=500)\n",
    "g2 = axes[2].imshow(amplitude_sobel - amplitude_gauss_sobel, cmap=\"gray\", vmin=0, vmax=500)\n",
    "\n",
    "axes[0].set_title(\"Amplitude gray convolved with Sobel\")\n",
    "axes[1].set_title(\"Amplitude gray blured + convolved with Sobel\")\n",
    "axes[2].set_title(\"Difference\")\n",
    "\n",
    "fig.colorbar(g0, ax=axes[0])\n",
    "fig.colorbar(g1, ax=axes[1])\n",
    "fig.colorbar(g2, ax=axes[2])\n",
    "\n",
    "plt.show()"
   ]
  },
  {
   "cell_type": "markdown",
   "metadata": {},
   "source": [
    "Nous pouvons grossièrement voir que les bords sont plus fort dans le cas où le flou Gaussien n'est pas appliqué."
   ]
  },
  {
   "cell_type": "code",
   "execution_count": null,
   "metadata": {},
   "outputs": [],
   "source": [
    "fig, axes = plt.subplots(1, 3, figsize=(16,6))\n",
    "g0 = axes[0].imshow(amplitude_sobel[25:150,150:250], cmap=\"coolwarm\", vmin=0, vmax=500)\n",
    "g1 = axes[1].imshow(amplitude_gauss_sobel[25:150,150:250], cmap=\"coolwarm\", vmin=0, vmax=500)\n",
    "g2 = axes[2].imshow((amplitude_sobel - amplitude_gauss_sobel)[25:150,150:250], cmap=\"gray\", vmin=0, vmax=500)\n",
    "\n",
    "axes[0].set_title(\"Amplitude gray convolved with Sobel\")\n",
    "axes[1].set_title(\"Amplitude gray blured + convolved with Sobel\")\n",
    "axes[2].set_title(\"Difference\")\n",
    "\n",
    "plt.show()"
   ]
  },
  {
   "cell_type": "markdown",
   "metadata": {},
   "source": [
    "Si nous zoomons, nous pouvons voir plusieurs choses:\n",
    "* Les zones correspondant au fond, par exemple les zones représentant un case de sudoku vierge, ont moins de bruit sur l'image ayant subi un flou gaussien que l'image ne l'ayant pas subi.\n",
    "* Les bords des petits éléments comme les écritures au dessus de la grille sont plus estompés. Probablement dû à l'application du filtre Gaussien. Pour le confirmer nous pouvons comparer la netteté des écritures en fonction de la taille du kernel.\n",
    "* Les bords de la grille sont plus diffus dans le cas de l'application du flou gaussien (observation déjà mentionnée)"
   ]
  },
  {
   "cell_type": "code",
   "execution_count": null,
   "metadata": {},
   "outputs": [],
   "source": [
    "fig, axes = plt.subplots(1, 4, figsize=(16,8))\n",
    "tmp_arr = False\n",
    "for i, size in enumerate([3, 5, 7, 9]):\n",
    "    blur_img = cv2.GaussianBlur(imgGray, ksize=(size,size), sigmaX=2.0)\n",
    "    blured_gauss_Gx = cv2.filter2D(blur_img, ddepth=-1, kernel=Gx)\n",
    "    blured_gauss_Gy = cv2.filter2D(blur_img, ddepth=-1, kernel=Gy)\n",
    "    amplitude_gauss_sobel = np.sqrt(blured_gauss_Gx**2 + blured_gauss_Gy**2)\n",
    "\n",
    "    g = axes[i].imshow(amplitude_gauss_sobel[45:75,170:250], cmap=\"coolwarm\")\n",
    "    axes[i].set_title(f\"kernel size of Gaussian blur, k={size}\")\n",
    "\n",
    "plt.show()"
   ]
  },
  {
   "cell_type": "markdown",
   "metadata": {},
   "source": [
    "L'influence de la taille du kernel n'est pas très flagrante, on constate sur les bords horizontal un élargissement et un flou plus prononcé. Cela est tout de même concordant avec le fait que les petites écritures au dessus de la grille sont plus affaiblies/diluées avec la taille du kernel."
   ]
  },
  {
   "cell_type": "code",
   "execution_count": null,
   "metadata": {},
   "outputs": [],
   "source": [
    "# Observons dans un premier temps l'influence de l'application d'un flou Gaussien avant l'application du filtre de Sobel:\n",
    "blur_img = cv2.GaussianBlur(imgGray, ksize=(9,9), sigmaX=3.0)\n",
    "\n",
    "# Application du filtre Gx\n",
    "img_Gx = cv2.filter2D(imgGray, ddepth=-1, kernel=Gx)\n",
    "blured_gauss_Gx = cv2.filter2D(blur_img, ddepth=-1, kernel=Gx)\n",
    "\n",
    "# Application du filtre Gy\n",
    "img_Gy = cv2.filter2D(imgGray, ddepth=-1, kernel=Gy)\n",
    "blured_gauss_Gy = cv2.filter2D(blur_img, ddepth=-1, kernel=Gy)\n",
    "\n",
    "# Angle du vecteur obtenue par le filtre de Sobel et celui ayant subi un floutage Gaussien et le filtre de Sobel\n",
    "theta_sobel = np.arctan(img_Gy / (img_Gx + 1e-8)) * (180 / np.pi) + 180 * (img_Gx < 0)\n",
    "theta_gauss_sobel = np.arctan(blured_gauss_Gy / (blured_gauss_Gx + 1e-10)) * (180 / np.pi) + 180 * (img_Gx < 0)"
   ]
  },
  {
   "cell_type": "code",
   "execution_count": null,
   "metadata": {},
   "outputs": [],
   "source": [
    "print(f\"valeur minimale et maximale de theta_sobel = ({theta_sobel.min()};{theta_sobel.max()})\")\n",
    "print(f\"valeur minimale et maximale de theta_gausse_sobel = ({theta_gauss_sobel.min()};{theta_gauss_sobel.max()})\")"
   ]
  },
  {
   "cell_type": "code",
   "execution_count": null,
   "metadata": {},
   "outputs": [],
   "source": [
    "fig, axes = plt.subplots(1, 3, figsize=(20,6))\n",
    "g0 = axes[0].imshow(theta_sobel, cmap=\"coolwarm\", vmin=0, vmax=359)\n",
    "g1 = axes[1].imshow(theta_gauss_sobel, cmap=\"coolwarm\", vmin=0, vmax=359)\n",
    "g2 = axes[2].imshow((theta_sobel - theta_gauss_sobel), cmap=\"gray\", vmin=0, vmax=200)\n",
    "\n",
    "axes[0].set_title(r\"$\\theta$ gray convolved with Sobel\")\n",
    "axes[1].set_title(r\"$\\theta$ gray blured + convolved with Sobel\")\n",
    "axes[2].set_title(\"Difference\")\n",
    "\n",
    "fig.colorbar(g0, ax=axes[0])\n",
    "fig.colorbar(g1, ax=axes[1])\n",
    "fig.colorbar(g2, ax=axes[2])\n",
    "\n",
    "plt.show()"
   ]
  },
  {
   "cell_type": "markdown",
   "metadata": {},
   "source": [
    "Nous voyons que le bruit est moindre au sein de l'orientation du vecteur de Sobel quand le flou est appliquée. Néanmoins il y a beaucoup de \"résidus\"  dans les cases qui sont vides. De plus il semble que les lignes verti"
   ]
  },
  {
   "cell_type": "code",
   "execution_count": null,
   "metadata": {},
   "outputs": [],
   "source": [
    "fig, axes = plt.subplots(1, 3, figsize=(20,6))\n",
    "g0 = axes[0].imshow(theta_sobel[100:200,100:200], cmap=\"coolwarm\", vmin=0, vmax=270)\n",
    "g1 = axes[1].imshow(theta_gauss_sobel[100:200,100:200], cmap=\"coolwarm\", vmin=0, vmax=270)\n",
    "g2 = axes[2].imshow((theta_sobel - theta_gauss_sobel)[100:200,100:200], cmap=\"gray\", vmin=0, vmax=200)\n",
    "\n",
    "axes[0].set_title(r\"$\\theta$ gray convolved with Sobel\")\n",
    "axes[1].set_title(r\"$\\theta$ gray blured + convolved with Sobel\")\n",
    "axes[2].set_title(\"Difference\")\n",
    "\n",
    "fig.colorbar(g0, ax=axes[0])\n",
    "fig.colorbar(g1, ax=axes[1])\n",
    "fig.colorbar(g2, ax=axes[2])\n",
    "\n",
    "plt.show()"
   ]
  },
  {
   "cell_type": "markdown",
   "metadata": {},
   "source": [
    "Il semblerait que l'application d'un filtre de floutage Gaussien n'apporte pas une réduction du bruit de l'orientation du vecteur gradient d'intensité que la réduction du bruit au sein de l'amplitude du vecteur."
   ]
  },
  {
   "cell_type": "markdown",
   "metadata": {},
   "source": [
    "## Filtre de Canny\n",
    "[*vidéo intéressante de computerphile*](https://www.youtube.com/watch?v=sRFM5IEqR2w)\n",
    "\n",
    "L'application du détecteur de Canny se déroule en 4 étapes:\n",
    "* suppression du bruit\n",
    "* détermination de l'amplitude et de la direction de la résultante de l'image pour laquelle nous appliquons $G_x$ et $G_y$\n",
    "* l'application d'une étape de suppression non maximale (ça fait bizarre de traduire)\n",
    "* Seuillage hystherésis et analyse de connectivité\n",
    "\n",
    "### Etape 1: Suppression du bruit\n",
    "Nous avons déjà effectué une suppression du bruit via l'application d'un flou gaussien, profitons en pour essayer une autre technique ***Non Local Mean Denoising***."
   ]
  },
  {
   "cell_type": "code",
   "execution_count": null,
   "metadata": {},
   "outputs": [],
   "source": [
    "img = Image.open('sudoku_grid.png')\n",
    "imgGray = np.array(img.convert('L'), dtype='uint8') # nous devons caster en uint8 pour que la méthode fastNlMeanDenoising prenne l'image en output sans erreur\n",
    "print(f\"valeur max/min de imgGray: {imgGray.max()}/{imgGray.min()}\")"
   ]
  },
  {
   "cell_type": "code",
   "execution_count": null,
   "metadata": {},
   "outputs": [],
   "source": [
    "blur_img = cv2.fastNlMeansDenoising(imgGray, None, h=5., templateWindowSize=3, searchWindowSize=9)\n",
    "print(f\"valeur max/min de blur_img: {blur_img.max()}/{blur_img.min()}\")"
   ]
  },
  {
   "cell_type": "code",
   "execution_count": null,
   "metadata": {},
   "outputs": [],
   "source": [
    "fig, ax = plt.subplots(1, 2, figsize=(20,10))\n",
    "ax[0].imshow(imgGray, cmap=\"gray\")\n",
    "ax[1].imshow(blur_img, cmap=\"gray\")\n",
    "plt.show()"
   ]
  },
  {
   "cell_type": "markdown",
   "metadata": {},
   "source": [
    "Cette technique semble très bien marcher !"
   ]
  },
  {
   "cell_type": "markdown",
   "metadata": {},
   "source": [
    "### Etape 2: Calcul de l'amplitude et de la direction\n",
    "Pour le filtre de Canny nous avons besoin également des filtres $G_x$ et $G_y$ que nous avons utilisé pour le filtre de Sobel:\n",
    "$$\n",
    "G_x = \\begin{bmatrix} -1 & 0 & 1 \\\\ -2 & 0 & 2 \\\\ -1 & 0 & 1 \\end{bmatrix}\n",
    "$$\n",
    "\n",
    "$$\n",
    "G_y = \\begin{bmatrix} -1 & -2 & -1 \\\\ 0 & 0 & 0 \\\\ 1 & 2 & 1 \\end{bmatrix}\n",
    "$$"
   ]
  },
  {
   "cell_type": "code",
   "execution_count": null,
   "metadata": {},
   "outputs": [],
   "source": [
    "# Définition des kernel Gx et Gy:\n",
    "Gx = np.array([[-1, 0, 1],\n",
    "               [-2, 0, 2],\n",
    "               [-1, 0, 1]])\n",
    "Gy = np.array([[-1, -2, -1],\n",
    "               [ 0,  0,  0],\n",
    "               [ 1,  2,  1]])"
   ]
  },
  {
   "cell_type": "code",
   "execution_count": null,
   "metadata": {},
   "outputs": [],
   "source": [
    "# Application du filtre Gx\n",
    "img_Gx = cv2.filter2D(blur_img, ddepth=-1, kernel=Gx)\n",
    "\n",
    "# Application du filtre Gy\n",
    "img_Gy = cv2.filter2D(blur_img, ddepth=-1, kernel=Gy)"
   ]
  },
  {
   "cell_type": "code",
   "execution_count": null,
   "metadata": {},
   "outputs": [],
   "source": [
    "print(f\"Valeur max/min de img_Gx: {img_Gx.max()}/{img_Gy.min()}\")\n",
    "print(f\"Valeur max/min de img_Gy: {img_Gy.max()}/{img_Gy.min()}\")"
   ]
  },
  {
   "cell_type": "code",
   "execution_count": null,
   "metadata": {},
   "outputs": [],
   "source": [
    "# Calcul de l'amplitude\n",
    "amplitude = np.sqrt(img_Gx**2 + img_Gy**2)\n",
    "\n",
    "# calcul de la direction\n",
    "theta = np.arctan2(img_Gy, img_Gx) * (180 / np.pi) + 180 * (img_Gx < 0)\n",
    "print(f\"Valeur max de theta: {theta.max()}\")\n",
    "print(f\"Valeur min de theta: {theta.min()}\")"
   ]
  },
  {
   "cell_type": "code",
   "execution_count": null,
   "metadata": {},
   "outputs": [],
   "source": [
    "fig, ax = plt.subplots(1, 2, figsize=(20,10))\n",
    "g1 = ax[0].imshow(amplitude, cmap=\"gray\")\n",
    "g2 = ax[1].imshow(theta, cmap=\"coolwarm\")\n",
    "\n",
    "fig.colorbar(g2, ax=ax[1])\n",
    "plt.show()"
   ]
  },
  {
   "cell_type": "markdown",
   "metadata": {},
   "source": [
    "### Etape 3: Non maximal suppression gradient\n",
    "Rappelons le contenue des [slides](https://drive.google.com/file/d/1nEWH_ARdkrsDkLQobdQdrg5GlQtUYZz_/view) du cours de Standford:\n",
    "\n",
    "> *Edge occurs where gradient reaches a maxima*\n",
    "> > En réfléchissant sur ces différents points, nous comprenons qu'effectivement un bord peut être représenter par les pixels ayant la valeur de gradient la plus élevée le long de la normale à ce bord (voir figure ci dessous)\n",
    "> >\n",
    "> > ![non max suppression 1](non_max_suppression_img1.png)\n",
    "> >\n",
    "> > Sur l'image ci-dessus, le bord eut se résumer par les pixels sur lesquels la ligne rouge passe.\n",
    ">\n",
    "> *Suppress non-maxima gradient even if it passes threshold*\n",
    "> > Cela doit être dans le cas où le thresholding hysteresis est effectué en même temps. Mais ça ne sera pas notre cas ici.\n",
    ">\n",
    "> *Compare current pixel vs neighbors along direction of gradient*\n",
    "> > Vous l'avez probablement deviné aussi, nous avons donc besoin de l'amplitude du vecteur ET de la direction. Au sein des slides du CS 131, l'amplitude est plus ou moins appelé **DoG** pour *Difference of Gaussian* ça rappelle peut être quelque chose à certains d'entre vous lorsque vous avez fait l'exercice sur la détection des blobs ;)\n",
    "\n",
    "![non max suppression 2](non_max_suppression_img2.png)\n",
    "\n",
    "Pour savoir suivant quelle direction (horizontale, verticale, diagonale montante/descendante) nous utilisons l'image des directions.\n",
    "Il se peut que la valeur de direction pour le pixel en cours de traitement ne *tombe pas juste*, c'est-à-dire que nous avons des valeurs d'orientation différentes de $0°$, $45°$, $90°$, $125°$, $180°$, $225°$, $270°$, $315°$, $360°$.\\\n",
    "Au moins 2 solutions peuvent s'offrir à nous:\n",
    "* arrondir à la direction la plus proche\n",
    "* interpoler les valeurs d'amplitude un piel \"avant\" et \"après\" le long de la direction (plus chiant donc on ne le voit pas ici) comme cela est évoqué dans les [slides CS 131](https://drive.google.com/file/d/1nEWH_ARdkrsDkLQobdQdrg5GlQtUYZz_/view)\n",
    "\n",
    "![non max suppression 2](non_max_suppression_img3.png)\n",
    "\n",
    "**Side note**: Non Maximal Suppression (noté *NMS*) est aussi une méthode apparaissant lorsque l'on fera de la détection d'objets afin de ne conserver la *bounding box* avec la plus grande confiance. L'idée est semblable, car dans ce cas là nous souhaitons garder que la *bounding box* la plus représentative de la détection et supprimer les autres.\n",
    "\n",
    "\n",
    "De plus,\n",
    "> Avoid streaking near threshold value\n",
    "> * Define two thresholds: Low and High\n",
    "> * If less than Low, not an edge\n",
    "> * If greater than High, strong edge\n",
    "> * If between Low and High, weak edge\\\n",
    ">   *Consider its neighbors iteratively then declare it an “edge pixel” if it is connected to an ‘strong edge pixel’ directly or via pixels between Low and High*\n",
    "\n",
    "Une fois le *NMS* réalisé, il y aura une étape de seuillage hysthérésis et de connectivité."
   ]
  },
  {
   "cell_type": "code",
   "execution_count": null,
   "metadata": {},
   "outputs": [],
   "source": [
    "amplitude.dtype"
   ]
  },
  {
   "cell_type": "code",
   "execution_count": null,
   "metadata": {},
   "outputs": [],
   "source": [
    "# fonction NMS (mon implémentation un peu faignante):\n",
    "dict_kernels = {\n",
    "    \"0\": np.array([[0., 0., 0.],[1., 1., 1.],[0., 0., 0.]]),\n",
    "    \"45\": np.array([[0., 0., 1.],[0., 1., 0.],[1., 0., 0.]]),\n",
    "    \"90\": np.array([[0., 1., 0.],[0., 1., 0.],[0., 1., 0.]]),\n",
    "    \"135\": np.array([[1., 0., 0.],[0., 1., 0.],[0., 0., 1.]]),\n",
    "    \"180\": np.array([[0., 0., 0.],[1., 1., 1.],[0., 0., 0.]]),\n",
    "    \"225\": np.array([[0., 0., 1.],[0., 1., 0.],[1., 0., 0.]]),\n",
    "    \"270\": np.array([[0., 1., 0.],[0., 1., 0.],[0., 1., 0.]]),\n",
    "    \"315\": np.array([[1., 0., 0.],[0., 1., 0.],[0., 0., 1.]])\n",
    "}\n",
    "\n",
    "def nms(amplitude: np.ndarray, angle:np.ndarray):\n",
    "    line, col = amplitude.shape\n",
    "    amplitude_nms = np.zeros((line, col), dtype=float)\n",
    "    rounded_angle = np.zeros((line, col), dtype=int)\n",
    "    \n",
    "    rounded_angle[(angle >  337.5) & (angle <= 22.5)] = 0\n",
    "    rounded_angle[(angle > 22.5) & (angle <= 67.5)] = 45\n",
    "    rounded_angle[(angle > 67.5) & (angle <= 112.5)] = 90\n",
    "    rounded_angle[(angle > 112.5) & (angle <= 157.5)] = 135\n",
    "    rounded_angle[(angle > 157.5) & (angle <= 202.5)] = 180\n",
    "    rounded_angle[(angle > 202.5) & (angle <= 247.5)] = 225\n",
    "    rounded_angle[(angle > 247.5) & (angle <= 292.5)] = 270\n",
    "    rounded_angle[(angle > 292.5) & (angle <= 337.5)] = 315\n",
    "    # Nous avons un array processé d'angle avec 8 orientations\n",
    "    \n",
    "    # Maintenant en fonction de la direction du gradient\n",
    "    # nous devons regarder le pixel d'intérêt, le pixel avant et le pixel après\n",
    "    # Attention ça va pas être beau à voir\n",
    "    for y in range(1,line-1):\n",
    "        for x in range(1,col-1):\n",
    "            if rounded_angle[y][x] == 0:\n",
    "                if ((amplitude[y][x] > amplitude[y][x - 1])  and (amplitude[y][x] > amplitude[y][x + 1])):\n",
    "                    amplitude_nms[y][x] = amplitude[y][x]\n",
    "            elif rounded_angle[y][x] == 45:\n",
    "                if ((amplitude[y][x] > amplitude[y - 1][x - 1])  and (amplitude[y][x] > amplitude[y + 1][x + 1])):\n",
    "                    amplitude_nms[y][x] = amplitude[y][x]\n",
    "            elif rounded_angle[y][x] == 90:\n",
    "                if ((amplitude[y][x] > amplitude[y - 1][x])  and (amplitude[y][x] > amplitude[y + 1][x])):\n",
    "                    amplitude_nms[y][x] = amplitude[y][x]\n",
    "            elif rounded_angle[y][x] == 135:\n",
    "                if ((amplitude[y][x] > amplitude[y + 1][x - 1])  and (amplitude[y][x] > amplitude[y - 1][x + 1])):\n",
    "                    amplitude_nms[y][x] = amplitude[y][x]\n",
    "            elif rounded_angle[y][x] == 180:\n",
    "                if ((amplitude[y][x] > amplitude[y][x - 1])  and (amplitude[y][x] > amplitude[y][x + 1])):\n",
    "                    amplitude_nms[y][x] = amplitude[y][x]\n",
    "            elif rounded_angle[y][x] == 225:\n",
    "                if ((amplitude[y][x] > amplitude[y - 1][x - 1])  and (amplitude[y][x] > amplitude[y + 1][x + 1])):\n",
    "                    amplitude_nms[y][x] = amplitude[y][x]\n",
    "            elif rounded_angle[y][x] == 270:\n",
    "                if ((amplitude[y][x] > amplitude[y - 1][x])  and (amplitude[y][x] > amplitude[y + 1][x])):\n",
    "                    amplitude_nms[y][x] = amplitude[y][x]\n",
    "            elif rounded_angle[y][x] == 315:\n",
    "                if ((amplitude[y][x] > amplitude[y + 1][x - 1])  and (amplitude[y][x] > amplitude[y - 1][x + 1])):\n",
    "                    amplitude_nms[y][x] = amplitude[y][x]\n",
    "    \n",
    "    return amplitude_nms"
   ]
  },
  {
   "cell_type": "code",
   "execution_count": null,
   "metadata": {},
   "outputs": [],
   "source": [
    "amplitude_nms = nms(amplitude.astype('float64'), theta)"
   ]
  },
  {
   "cell_type": "code",
   "execution_count": null,
   "metadata": {},
   "outputs": [],
   "source": [
    "fig, ax = plt.subplots(1, 2, figsize=(20,20))\n",
    "\n",
    "g1 = ax[0].imshow(amplitude_nms, cmap=\"gray\")\n",
    "g2 = ax[1].imshow(amplitude, cmap=\"gray\")\n",
    "\n",
    "plt.show()"
   ]
  },
  {
   "cell_type": "code",
   "execution_count": null,
   "metadata": {},
   "outputs": [],
   "source": [
    "def hytheresis_tresholding(arr:np.ndarray, high_treshold:float, low_treshold:float):\n",
    "    hystheresis_arr = np.zeros(arr.shape)\n",
    "    hystheresis_arr[arr >= high_treshold] = high_treshold\n",
    "    hystheresis_arr[(arr < high_treshold) & (arr >= high_treshold)] = (high_treshold - low_treshold) / 2\n",
    "    hystheresis_arr[arr < low_treshold] = 0\n",
    "    return hystheresis_arr"
   ]
  },
  {
   "cell_type": "code",
   "execution_count": null,
   "metadata": {},
   "outputs": [],
   "source": [
    "def connectivity_tresholding(arr:np.array):\n",
    "    for i in range(2, arr.shape[0] - 2):\n",
    "        for j in range(2, arr.shape[1] - 2):\n",
    "            if (arr[i][j] == 1) and np.any(arr[i - 2 : i + 2][j - 2 : j + 2] == 2):\n",
    "                arr[i][j] = 2\n",
    "    return arr"
   ]
  },
  {
   "cell_type": "code",
   "execution_count": null,
   "metadata": {},
   "outputs": [],
   "source": [
    "amplitude_max = amplitude_nms.max()\n",
    "amplitude_min = amplitude_nms.min()\n",
    "\n",
    "print(f\"valeur max = {amplitude_max}\")\n",
    "print(f\"valeur max = {amplitude_min}\")"
   ]
  },
  {
   "cell_type": "code",
   "execution_count": null,
   "metadata": {},
   "outputs": [],
   "source": [
    "fig, ax = plt.subplots(1, 2, figsize=(20,20))\n",
    "\n",
    "g1 = ax[0].imshow(amplitude_nms, cmap=\"gray\")\n",
    "g2 = ax[1].imshow(hytheresis_tresholding(amplitude_nms, high_treshold=10, low_treshold=5), cmap=\"gray\")\n",
    "\n",
    "plt.show()"
   ]
  },
  {
   "cell_type": "code",
   "execution_count": null,
   "metadata": {},
   "outputs": [],
   "source": []
  },
  {
   "cell_type": "markdown",
   "metadata": {},
   "source": [
    "## Transformée de Hough"
   ]
  }
 ],
 "metadata": {
  "kernelspec": {
   "display_name": "Python 3",
   "language": "python",
   "name": "python3"
  },
  "language_info": {
   "codemirror_mode": {
    "name": "ipython",
    "version": 3
   },
   "file_extension": ".py",
   "mimetype": "text/x-python",
   "name": "python",
   "nbconvert_exporter": "python",
   "pygments_lexer": "ipython3",
   "version": "3.7.6"
  },
  "vscode": {
   "interpreter": {
    "hash": "bc29bc7902d0467a1187ffbd7ca795fbf4af8410bd3339bdc0fb13f515088705"
   }
  }
 },
 "nbformat": 4,
 "nbformat_minor": 4
}
