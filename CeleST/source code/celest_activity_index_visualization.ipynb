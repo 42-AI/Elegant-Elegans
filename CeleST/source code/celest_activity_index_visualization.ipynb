{
 "cells": [
  {
   "cell_type": "markdown",
   "id": "b3759a60",
   "metadata": {},
   "source": [
    "# Activity index visualization in CeleST\n",
    "\n",
    "This python script produces a video using the CeleST data processing pipeline\n",
    "\n",
    "1. Create two folders inside CeleST/source_code: `bm_csv` and `csv`\n",
    "2. Run CeleST with the csvwrite debug instructions\n",
    "3. Run the cells below\n",
    "4. A video is produced with filename `output.mp4`"
   ]
  },
  {
   "cell_type": "code",
   "execution_count": 35,
   "id": "0bfdadff",
   "metadata": {},
   "outputs": [],
   "source": [
    "import os\n",
    "import numpy as np\n",
    "import cv2\n",
    "import csv\n",
    "import collections\n",
    "shape = 520, 696\n",
    "duration = 2\n",
    "fps = 5\n",
    "frames = collections.defaultdict(list)\n",
    "for filename in os.listdir(\"csv\"):\n",
    "    if filename.endswith(\".csv\"):\n",
    "        w, f, _ = filename.split('.')\n",
    "        w, f = int(w), int(f)\n",
    "        frames[f].append((np.loadtxt(open(\"csv/\"+filename, \"rb\"), delimiter=\",\", dtype='int') > 0).astype('int'))\n",
    "body_frames = collections.defaultdict(list)\n",
    "for filename in os.listdir(\"bm_csv\"):\n",
    "    if filename.endswith(\".csv\"):\n",
    "        w, f, _ = filename.split('.')\n",
    "        w, f = int(w), int(f)\n",
    "        body_frames[f].append((np.loadtxt(open(\"bm_csv/\"+filename, \"rb\"), delimiter=\",\", dtype='int') > 0).astype('int'))"
   ]
  },
  {
   "cell_type": "code",
   "execution_count": 36,
   "id": "8d9b2078",
   "metadata": {},
   "outputs": [],
   "source": [
    "out = cv2.VideoWriter('output.mp4', cv2.VideoWriter_fourcc(*'mp4v'), fps, (size[1], size[0]), False)\n",
    "for f in sorted(body_frames.keys()):\n",
    "    data = np.zeros(shape).astype('uint8')\n",
    "    for w in frames[f]:\n",
    "        data = data | w\n",
    "    body_data = np.zeros(shape).astype('uint8')\n",
    "    for w in body_frames[f]:\n",
    "        body_data = body_data | w\n",
    "    out.write((data * 127 + body_data *255).clip(0,255).astype('uint8'))\n",
    "out.release()"
   ]
  }
 ],
 "metadata": {
  "kernelspec": {
   "display_name": "Python 3 (ipykernel)",
   "language": "python",
   "name": "python3"
  },
  "language_info": {
   "codemirror_mode": {
    "name": "ipython",
    "version": 3
   },
   "file_extension": ".py",
   "mimetype": "text/x-python",
   "name": "python",
   "nbconvert_exporter": "python",
   "pygments_lexer": "ipython3",
   "version": "3.10.6"
  }
 },
 "nbformat": 4,
 "nbformat_minor": 5
}
